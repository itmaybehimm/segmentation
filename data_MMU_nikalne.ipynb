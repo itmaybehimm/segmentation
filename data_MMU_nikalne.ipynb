{
 "cells": [
  {
   "cell_type": "code",
   "execution_count": 1,
   "id": "1f0d2239-79eb-46f0-abb8-074588d885fe",
   "metadata": {},
   "outputs": [],
   "source": [
    "import os\n",
    "import shutil"
   ]
  },
  {
   "cell_type": "code",
   "execution_count": 2,
   "id": "0abcc0dd-9b8b-4c66-a14e-79d3a783fe71",
   "metadata": {},
   "outputs": [],
   "source": [
    "root_directory = os.path.join(\"Images\",\"MMU-Iris-Database\") \n",
    "destination_directory = os.path.join(\"all-images-mmu\")\n"
   ]
  },
  {
   "cell_type": "code",
   "execution_count": 8,
   "id": "3381c424-8d09-486b-9763-3a822fe4501b",
   "metadata": {},
   "outputs": [
    {
     "name": "stdout",
     "output_type": "stream",
     "text": [
      "done\n"
     ]
    }
   ],
   "source": [
    "for item in os.listdir(root_directory):\n",
    "    # Check if the item is a folder\n",
    "    if os.path.isdir(os.path.join(root_directory, item)):\n",
    "        sub_folder_name=item\n",
    "        sub_folder_path = os.path.join(root_directory, item)\n",
    "        \n",
    "        # Determine whether it's left or right\n",
    "        \n",
    "        # Iterate over left and right subfolders\n",
    "        for sub_sub_folder in os.listdir(sub_folder_path):\n",
    "            sub_sub_folder_name = sub_sub_folder\n",
    "            sub_sub_folder_type = \"L\" if \"left\" in sub_sub_folder_name.lower() else \"R\"\n",
    "            sub_sub_folder_path = os.path.join(sub_folder_path, sub_sub_folder)\n",
    "            \n",
    "            # Check if the item is a folder\n",
    "            if os.path.isdir(sub_sub_folder_path):\n",
    "                for index, filename in enumerate(os.listdir(sub_sub_folder_path)):\n",
    "                    # Ignore .DS_Store, .ipynb_checkpoints, and thumbs.db and files with .db extension\n",
    "                    if filename in [\".DS_Store\", \".ipynb_checkpoints\", \"thumbs.db\"] or filename.endswith(\".db\"):\n",
    "                        continue\n",
    "                        \n",
    "                    # Get the file extension\n",
    "                    file_name, file_extension = os.path.splitext(filename)\n",
    "                    \n",
    "                    # Destination file path with foldername_index_L/R format\n",
    "                    destination_file_path = os.path.join(destination_directory, f\"{sub_folder_name}_{index + 1}_{sub_sub_folder_type}{file_extension}\")\n",
    "                    \n",
    "                    # Copy the file to the destination directory with the new name\n",
    "                    shutil.copy(os.path.join(sub_sub_folder_path, filename), destination_file_path)\n",
    "\n",
    "print(\"done\")"
   ]
  },
  {
   "cell_type": "code",
   "execution_count": null,
   "id": "534f068f-0703-4819-b017-ea6c036fd5c1",
   "metadata": {},
   "outputs": [],
   "source": []
  }
 ],
 "metadata": {
  "kernelspec": {
   "display_name": "Python 3 (ipykernel)",
   "language": "python",
   "name": "python3"
  },
  "language_info": {
   "codemirror_mode": {
    "name": "ipython",
    "version": 3
   },
   "file_extension": ".py",
   "mimetype": "text/x-python",
   "name": "python",
   "nbconvert_exporter": "python",
   "pygments_lexer": "ipython3",
   "version": "3.9.7"
  }
 },
 "nbformat": 4,
 "nbformat_minor": 5
}
