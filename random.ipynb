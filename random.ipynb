{
 "cells": [
  {
   "cell_type": "code",
   "execution_count": 11,
   "id": "ae7f4765-6391-413b-bdd1-22fcc6e1eae3",
   "metadata": {},
   "outputs": [
    {
     "name": "stdout",
     "output_type": "stream",
     "text": [
      "(186, 110)\n",
      "(188, 110)\n",
      "2.0\n"
     ]
    },
    {
     "data": {
      "text/plain": [
       "-1"
      ]
     },
     "execution_count": 11,
     "metadata": {},
     "output_type": "execute_result"
    }
   ],
   "source": [
    "import sys\n",
    "import os\n",
    "import cv2 as cv\n",
    "import numpy as np\n",
    "\n",
    "\n",
    "\n",
    "## [load]\n",
    "# default_file = 'aeval2.bmp'\n",
    "# filename = argv[0] if len(argv) > 0 else default_file\n",
    "#     filename='philipl3.bmp'\n",
    "filename='christiner3.bmp'\n",
    "\n",
    "# Loads an image\n",
    "src = cv.imread(os.path.join('Images',filename))\n",
    "\n",
    "# Check if image is loaded fine\n",
    "if src is None:\n",
    "    print ('Error opening image!')\n",
    "    print ('Usage: hough_circle.py [image_name -- default ' + filename + '] \\n')\n",
    "## [load]\n",
    "\n",
    "## [convert_to_gray]\n",
    "# Convert it to gray\n",
    "gray = cv.cvtColor(src, cv.COLOR_BGR2GRAY)\n",
    "## [convert_to_gray]\n",
    "\n",
    "## [reduce_noise]\n",
    "# Reduce the noise to avoid false circle detection\n",
    "gray = cv.medianBlur(gray, 5)\n",
    "## [reduce_noise]\n",
    "\n",
    "## [houghcircles]\n",
    "rows = gray.shape[0]\n",
    "\n",
    "#minDist btwn two centers must be 0\n",
    "\n",
    "#same center vako rakhne?\n",
    "circles = cv.HoughCircles(gray, cv.HOUGH_GRADIENT, dp=1, minDist=rows/8,\n",
    "                           param1=100, param2=30,\n",
    "                           minRadius=20, maxRadius=30)\n",
    "\n",
    "# circles = cv.HoughCircles(gray, cv.HOUGH_GRADIENT, dp=1, minDist=1,\n",
    "#                            param1=100, param2=30,\n",
    "#                            minRadius=1, maxRadius=30)\n",
    "## [houghcircles]\n",
    "\n",
    "## [draw]\n",
    "act_center=(0,0)\n",
    "if circles is not None:\n",
    "    circles = np.uint16(np.around(circles))\n",
    "    for i in circles[0, :]:\n",
    "        center = (i[0], i[1])\n",
    "\n",
    "        act_center=center\n",
    "        # circle center\n",
    "        cv.circle(src, center, 1, (255, 0, 255), 3)\n",
    "        # circle outline\n",
    "        radius = i[2]\n",
    "        cv.circle(src, center, radius, (255, 0, 255), 3)\n",
    "## [draw]\n",
    "\n",
    "#for pupil\n",
    "print(act_center)\n",
    "\n",
    "#for larger region\n",
    "circles = cv.HoughCircles(gray, cv.HOUGH_GRADIENT, dp=1, minDist=rows/8,\n",
    "                           param1=100, param2=30,\n",
    "                           minRadius=30, maxRadius=80)\n",
    "\n",
    "if circles is not None:\n",
    "    #since center is unsigned int, it can't be negative so - garda yaad garne\n",
    "    circles = np.uint16(np.around(circles))\n",
    "    for i in circles[0, :]:\n",
    "        center = (i[0], i[1])        \n",
    "        print(center)\n",
    "        dis=find_distance_unsigned_tuple(center,act_center)\n",
    "        print(dis)\n",
    "        # print(int(act_center[0])-int(center[0]))\n",
    "        # circle center\n",
    "        if(dis<=12):\n",
    "            cv.circle(src, center, 1, (255, 0, 0), 3)\n",
    "        # circle outline\n",
    "            radius = i[2]\n",
    "            cv.circle(src, center, radius, (255, 0, 255), 3)\n",
    "        \n",
    "## [display]\n",
    "cv.imshow(\"detected circles\", src)\n",
    "while 1:\n",
    "    if cv.waitKey(1) == ord('q'):\n",
    "        break\n",
    "# # When everything done, release the capture\n",
    "#     cap.release()\n",
    "cv.destroyAllWindows()\n",
    "# I don't know why we need these 4 lines but it works\n",
    "cv.waitKey(1)\n",
    "cv.waitKey(1)\n",
    "cv.waitKey(1)\n",
    "cv.waitKey(1)\n",
    "\n",
    "\n"
   ]
  },
  {
   "cell_type": "code",
   "execution_count": 2,
   "id": "49a4e3e0-cb18-4cd4-8406-a6b3ef76513c",
   "metadata": {},
   "outputs": [],
   "source": [
    "def find_distance_unsigned_tuple(v1:tuple,v2:tuple)->int:\n",
    "    r1=v1[0]-v2[0] if(v1[0]>v2[0]) else v2[0]-v1[0]\n",
    "    r2=v1[1]-v2[1] if(v1[1]>v2[1]) else v2[1]-v1[1]\n",
    "    return (r1**2+r2**2)**0.5"
   ]
  },
  {
   "cell_type": "code",
   "execution_count": null,
   "id": "f12c40cc-4549-45b8-a86e-051c4a87c3bd",
   "metadata": {},
   "outputs": [],
   "source": []
  }
 ],
 "metadata": {
  "kernelspec": {
   "display_name": "py310",
   "language": "python",
   "name": "py310"
  },
  "language_info": {
   "codemirror_mode": {
    "name": "ipython",
    "version": 3
   },
   "file_extension": ".py",
   "mimetype": "text/x-python",
   "name": "python",
   "nbconvert_exporter": "python",
   "pygments_lexer": "ipython3",
   "version": "3.10.13"
  }
 },
 "nbformat": 4,
 "nbformat_minor": 5
}
