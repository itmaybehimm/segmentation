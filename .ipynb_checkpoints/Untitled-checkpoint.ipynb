{
 "cells": [
  {
   "cell_type": "code",
   "execution_count": 1,
   "id": "d9d823a8-971e-41c6-8b0c-5d5cc371b7af",
   "metadata": {},
   "outputs": [
    {
     "data": {
      "text/plain": [
       "'/Users/himanshupradhan/coding/Projects/ML/hough-transform'"
      ]
     },
     "execution_count": 1,
     "metadata": {},
     "output_type": "execute_result"
    }
   ],
   "source": [
    "import os\n",
    "os.getcwd()"
   ]
  },
  {
   "cell_type": "code",
   "execution_count": null,
   "id": "ecd62c32-ccb3-4594-a926-8dc94c02023c",
   "metadata": {},
   "outputs": [],
   "source": [
    "import sys\n",
    "import os\n",
    "import cv2 as cv\n",
    "import numpy as np\n",
    "\n",
    "\n",
    "def main(argv):\n",
    "    ## [load]\n",
    "    # default_file = 'aeval2.bmp'\n",
    "    # filename = argv[0] if len(argv) > 0 else default_file\n",
    "    filename='philipl3.bmp'\n",
    "    # Loads an image\n",
    "    src = cv.imread(os.path.join('Images',filename))\n",
    "\n",
    "    # Check if image is loaded fine\n",
    "    if src is None:\n",
    "        print ('Error opening image!')\n",
    "        print ('Usage: hough_circle.py [image_name -- default ' + filename + '] \\n')\n",
    "        return -1\n",
    "    ## [load]\n",
    "\n",
    "    ## [convert_to_gray]\n",
    "    # Convert it to gray\n",
    "    gray = cv.cvtColor(src, cv.COLOR_BGR2GRAY)\n",
    "    ## [convert_to_gray]\n",
    "\n",
    "    ## [reduce_noise]\n",
    "    # Reduce the noise to avoid false circle detection\n",
    "    gray = cv.medianBlur(gray, 5)\n",
    "    ## [reduce_noise]\n",
    "\n",
    "    ## [houghcircles]\n",
    "    rows = gray.shape[0]\n",
    "    circles = cv.HoughCircles(gray, cv.HOUGH_GRADIENT, 1, rows / 8,\n",
    "                               param1=100, param2=30,\n",
    "                               minRadius=1, maxRadius=30)\n",
    "    ## [houghcircles]\n",
    "\n",
    "    ## [draw]\n",
    "    if circles is not None:\n",
    "        circles = np.uint16(np.around(circles))\n",
    "        for i in circles[0, :]:\n",
    "            center = (i[0], i[1])\n",
    "            # circle center\n",
    "            cv.circle(src, center, 1, (0, 100, 100), 3)\n",
    "            # circle outline\n",
    "            radius = i[2]\n",
    "            cv.circle(src, center, radius, (255, 0, 255), 3)\n",
    "    ## [draw]\n",
    "\n",
    "    ## [display]\n",
    "    cv.imshow(\"detected circles\", src)\n",
    "    if cv.waitKey(1) == ord('q'):\n",
    "        break\n",
    "# When everything done, release the capture\n",
    "cap.release()\n",
    "    cv.destroyAllWindows()\n",
    "    # I don't know why we need these 4 lines but it works\n",
    "    cv.waitKey(1)\n",
    "    cv.waitKey(1)\n",
    "    cv.waitKey(1)\n",
    "    cv.waitKey(1)\n",
    "    return 0\n",
    "\n",
    "\n",
    "if __name__ == \"__main__\":\n",
    "    main(sys.argv[1:])"
   ]
  },
  {
   "cell_type": "code",
   "execution_count": null,
   "id": "f3549e7f-ced5-4bab-984e-ddc3b14bab67",
   "metadata": {},
   "outputs": [],
   "source": []
  }
 ],
 "metadata": {
  "kernelspec": {
   "display_name": "song-recomendation-kernel",
   "language": "python",
   "name": "song-recomendation-kernel"
  },
  "language_info": {
   "codemirror_mode": {
    "name": "ipython",
    "version": 3
   },
   "file_extension": ".py",
   "mimetype": "text/x-python",
   "name": "python",
   "nbconvert_exporter": "python",
   "pygments_lexer": "ipython3",
   "version": "3.11.6"
  }
 },
 "nbformat": 4,
 "nbformat_minor": 5
}
